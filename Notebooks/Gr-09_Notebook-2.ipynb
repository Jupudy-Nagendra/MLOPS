{
 "cells": [
  {
   "cell_type": "markdown",
   "id": "a8aca393-523b-4b22-bf06-bfbce6e70410",
   "metadata": {},
   "source": [
    "\n",
    "## Model Deployment Using FastAPI\n",
    "\n",
    "This section demonstrates how to deploy the trained ML model as a RESTful API using FastAPI.\n",
    "The API loads the best model from the MLflow artifact store and provides an endpoint (`/predict`)\n",
    "that accepts input features in JSON format and returns a prediction."
   ]
  },
  {
   "cell_type": "code",
   "execution_count": 15,
   "id": "b59a0d7f-fc61-4776-894a-baea8d001fce",
   "metadata": {},
   "outputs": [],
   "source": [
    "from fastapi import FastAPI\n",
    "from pydantic import BaseModel\n",
    "from typing import Optional\n",
    "import mlflow.sklearn\n",
    "import pandas as pd\n",
    "import uvicorn\n",
    "import os\n",
    "\n",
    "# Define the input schema exactly as per the raw dataset.\n",
    "class PredictionInput(BaseModel):\n",
    "    holiday: Optional[str] = None\n",
    "    temp: float\n",
    "    rain_1h: float\n",
    "    snow_1h: float\n",
    "    clouds_all: int\n",
    "    weather_main: str\n",
    "    weather_description: str\n",
    "    date_time: str  # Format: \"YYYY-MM-DD HH:MM:SS\"\n",
    "\n",
    "# Create FastAPI app.\n",
    "app = FastAPI()\n",
    "\n",
    "# Load the best model from MLflow.\n",
    "model_uri = \"mlruns/676113837923995950/99140a2385dd4c6aa5c0b8ec80c133ff/artifacts/model\"\n",
    "model = mlflow.sklearn.load_model(model_uri)\n",
    "\n",
    "@app.post(\"/predict\")\n",
    "def predict(input_data: PredictionInput):\n",
    "    # Convert the input JSON to a Pandas DataFrame (one row)\n",
    "    input_df = pd.DataFrame([input_data.dict()])\n",
    "    \n",
    "    # The model pipeline should include any preprocessing to convert raw inputs\n",
    "    # into the transformed features used for prediction.\n",
    "    prediction = model.predict(input_df)\n",
    "    \n",
    "    # Return the prediction as a JSON-serializable list.\n",
    "    return {\"predictions\": prediction.tolist()}\n",
    "\n",
    "# # Run the app using Uvicorn.\n",
    "# if __name__ == \"__main__\":\n",
    "#     uvicorn.run(app, host=\"127.0.0.1\", port=8000)\n"
   ]
  },
  {
   "cell_type": "code",
   "execution_count": null,
   "id": "411effe5-27ed-4cbc-874e-98c29816e345",
   "metadata": {},
   "outputs": [],
   "source": [
    "# !jupyter nbconvert --to script Notebook2.ipynb"
   ]
  },
  {
   "cell_type": "code",
   "execution_count": null,
   "id": "d203d1b6-4d60-44bc-87be-7266539a169a",
   "metadata": {},
   "outputs": [],
   "source": [
    "ls"
   ]
  },
  {
   "cell_type": "code",
   "execution_count": 3,
   "id": "a916bb65-43a8-4097-b81b-c577abd99a75",
   "metadata": {},
   "outputs": [],
   "source": [
    "import os\n",
    "project_dir = r'C:\\Users\\india\\Desktop\\Jio_Institute\\MLOps\\Project\\Nagendra\\MLOPS'\n",
    "os.chdir(project_dir)"
   ]
  },
  {
   "cell_type": "code",
   "execution_count": 11,
   "id": "44d4cb06-9b15-4edc-8e3e-a58012d8871f",
   "metadata": {},
   "outputs": [
    {
     "name": "stdout",
     "output_type": "stream",
     "text": [
      "Requirement already satisfied: numpy==1.25.0 in c:\\users\\india\\anaconda3\\envs\\mlops\\lib\\site-packages (1.25.0)\n"
     ]
    }
   ],
   "source": [
    "!pip install numpy==1.25.0"
   ]
  },
  {
   "cell_type": "code",
   "execution_count": 22,
   "id": "40d761cc-5c8f-4156-8842-b868d7bc15b5",
   "metadata": {},
   "outputs": [
    {
     "name": "stdout",
     "output_type": "stream",
     "text": [
      "Requirement already satisfied: cloudpickle in c:\\users\\india\\anaconda3\\envs\\mlops\\lib\\site-packages (3.1.1)\n"
     ]
    }
   ],
   "source": [
    "!pip install --upgrade cloudpickle\n"
   ]
  },
  {
   "cell_type": "code",
   "execution_count": 26,
   "id": "2a1ffa40-dda4-4b80-bc9a-9a7da88dd412",
   "metadata": {},
   "outputs": [
    {
     "name": "stdout",
     "output_type": "stream",
     "text": [
      "^C\n"
     ]
    }
   ],
   "source": [
    "!pip uninstall numpy"
   ]
  },
  {
   "cell_type": "code",
   "execution_count": 6,
   "id": "f20d8b8b-2a1c-47e1-9e83-4fc262aa6399",
   "metadata": {},
   "outputs": [
    {
     "name": "stdout",
     "output_type": "stream",
     "text": [
      "1.25.0\n"
     ]
    }
   ],
   "source": [
    "import numpy as np\n",
    "print(np.__version__)\n"
   ]
  },
  {
   "cell_type": "code",
   "execution_count": 13,
   "id": "36da68ad-3fa1-4cf1-a972-9f5776ef460b",
   "metadata": {},
   "outputs": [
    {
     "name": "stdout",
     "output_type": "stream",
     "text": [
      "Collecting xgboost\n",
      "  Using cached xgboost-2.1.4-py3-none-win_amd64.whl.metadata (2.1 kB)\n",
      "Requirement already satisfied: numpy in c:\\users\\india\\anaconda3\\envs\\mlops1\\lib\\site-packages (from xgboost) (2.0.2)\n",
      "Requirement already satisfied: scipy in c:\\users\\india\\anaconda3\\envs\\mlops1\\lib\\site-packages (from xgboost) (1.13.1)\n",
      "Using cached xgboost-2.1.4-py3-none-win_amd64.whl (124.9 MB)\n",
      "Installing collected packages: xgboost\n",
      "Successfully installed xgboost-2.1.4\n"
     ]
    }
   ],
   "source": [
    "!pip install xgboost\n"
   ]
  },
  {
   "cell_type": "code",
   "execution_count": null,
   "id": "cc1a4cdd-47ce-4948-af04-94d19a860079",
   "metadata": {},
   "outputs": [],
   "source": []
  }
 ],
 "metadata": {
  "kernelspec": {
   "display_name": "mlops1 (Python 3.9)",
   "language": "python",
   "name": "mlops_env"
  },
  "language_info": {
   "codemirror_mode": {
    "name": "ipython",
    "version": 3
   },
   "file_extension": ".py",
   "mimetype": "text/x-python",
   "name": "python",
   "nbconvert_exporter": "python",
   "pygments_lexer": "ipython3",
   "version": "3.9.21"
  }
 },
 "nbformat": 4,
 "nbformat_minor": 5
}
