{
 "cells": [
  {
   "cell_type": "markdown",
   "id": "a8aca393-523b-4b22-bf06-bfbce6e70410",
   "metadata": {},
   "source": [
    "\n",
    "## Model Deployment Using FastAPI\n",
    "\n",
    "This section demonstrates how to deploy the trained ML model as a RESTful API using FastAPI.\n",
    "The API loads the best model from the MLflow artifact store and provides an endpoint (`/predict`)\n",
    "that accepts input features in JSON format and returns a prediction."
   ]
  },
  {
   "cell_type": "code",
   "execution_count": 21,
   "id": "b59a0d7f-fc61-4776-894a-baea8d001fce",
   "metadata": {},
   "outputs": [],
   "source": [
    "from fastapi import FastAPI\n",
    "from pydantic import BaseModel\n",
    "from typing import Optional\n",
    "import mlflow.sklearn\n",
    "import pandas as pd\n",
    "import uvicorn\n",
    "import os\n",
    "\n",
    "# Define the input schema exactly as per the raw dataset.\n",
    "class PredictionInput(BaseModel):\n",
    "    holiday: Optional[str] = None\n",
    "    temp: float\n",
    "    rain_1h: float\n",
    "    snow_1h: float\n",
    "    clouds_all: int\n",
    "    weather_main: str\n",
    "    weather_description: str\n",
    "    date_time: str  # Format: \"YYYY-MM-DD HH:MM:SS\"\n",
    "\n",
    "# Create FastAPI app.\n",
    "app = FastAPI()\n",
    "\n",
    "# Load the best model from MLflow.\n",
    "# Update the model_uri with your actual model's artifact path or MLflow URI.\n",
    "model_uri = \"mlruns/676113837923995950/99140a2385dd4c6aa5c0b8ec80c133ff/artifacts/model\"\n",
    "model = mlflow.sklearn.load_model(model_uri)\n",
    "\n",
    "@app.post(\"/predict\")\n",
    "def predict(input_data: PredictionInput):\n",
    "    # Convert the input JSON to a Pandas DataFrame (one row)\n",
    "    input_df = pd.DataFrame([input_data.dict()])\n",
    "    \n",
    "    # The model pipeline should include any preprocessing to convert raw inputs\n",
    "    # into the transformed features used for prediction.\n",
    "    prediction = model.predict(input_df)\n",
    "    \n",
    "    # Return the prediction as a JSON-serializable list.\n",
    "    return {\"predictions\": prediction.tolist()}\n",
    "\n",
    "# # Run the app using Uvicorn.\n",
    "# if __name__ == \"__main__\":\n",
    "#     uvicorn.run(app, host=\"127.0.0.1\", port=8000)\n"
   ]
  },
  {
   "cell_type": "code",
   "execution_count": 27,
   "id": "411effe5-27ed-4cbc-874e-98c29816e345",
   "metadata": {},
   "outputs": [
    {
     "name": "stderr",
     "output_type": "stream",
     "text": [
      "[NbConvertApp] Converting notebook Notebook2.ipynb to script\n",
      "[NbConvertApp] Writing 1950 bytes to Notebook2.py\n"
     ]
    }
   ],
   "source": [
    "!jupyter nbconvert --to script Notebook2.ipynb"
   ]
  },
  {
   "cell_type": "code",
   "execution_count": 18,
   "id": "d203d1b6-4d60-44bc-87be-7266539a169a",
   "metadata": {},
   "outputs": [
    {
     "name": "stdout",
     "output_type": "stream",
     "text": [
      " Volume in drive C is Windows\n",
      " Volume Serial Number is E054-376B\n",
      "\n",
      " Directory of C:\\Users\\india\\Desktop\\Jio_Institute\\MLOps\\Project\\Nagendra\\MLOPS\n",
      "\n",
      "17-03-2025  00:43    <DIR>          .\n",
      "09-03-2025  18:17    <DIR>          ..\n",
      "03-03-2025  17:27             3,586 .gitignore\n",
      "03-03-2025  17:46    <DIR>          .ipynb_checkpoints\n",
      "03-03-2025  16:38    <DIR>          Dataset\n",
      "17-03-2025  00:42         2,218,971 Metro_Interstate_Traffic_Volume_Profile.html\n",
      "17-03-2025  00:43    <DIR>          mlruns\n",
      "17-03-2025  00:53    <DIR>          Notebooks\n",
      "03-03-2025  17:27                 7 README.md\n",
      "               3 File(s)      2,222,564 bytes\n",
      "               6 Dir(s)  137,590,173,696 bytes free\n"
     ]
    }
   ],
   "source": [
    "ls"
   ]
  },
  {
   "cell_type": "code",
   "execution_count": 25,
   "id": "a916bb65-43a8-4097-b81b-c577abd99a75",
   "metadata": {},
   "outputs": [],
   "source": [
    "\n",
    "project_dir = r'C:\\Users\\india\\Desktop\\Jio_Institute\\MLOps\\Project\\Nagendra\\MLOPS\\Notebooks'\n",
    "os.chdir(project_dir)"
   ]
  },
  {
   "cell_type": "code",
   "execution_count": null,
   "id": "272d1a13-d1f5-43de-b547-be1e20989989",
   "metadata": {},
   "outputs": [],
   "source": []
  }
 ],
 "metadata": {
  "kernelspec": {
   "display_name": "Python (mlops)",
   "language": "python",
   "name": "mlops"
  },
  "language_info": {
   "codemirror_mode": {
    "name": "ipython",
    "version": 3
   },
   "file_extension": ".py",
   "mimetype": "text/x-python",
   "name": "python",
   "nbconvert_exporter": "python",
   "pygments_lexer": "ipython3",
   "version": "3.9.21"
  }
 },
 "nbformat": 4,
 "nbformat_minor": 5
}
