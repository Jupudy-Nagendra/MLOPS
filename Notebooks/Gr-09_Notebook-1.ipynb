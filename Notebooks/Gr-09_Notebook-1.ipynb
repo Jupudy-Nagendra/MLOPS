{
 "cells": [
  {
   "cell_type": "markdown",
   "id": "4988ef08-bfba-45a2-9cf2-c9e5973462fc",
   "metadata": {},
   "source": [
    "# MLOPS Project Group 09\n",
    "**Team: Nagendra Jupudy, Vamsi Krishna Pirati, Rajesh Avunoori, Sanju Vikasini Velmurugan, Piyush Borse**\n",
    "## **Predicting Metro_Interstate_Traffic_Volume**\n",
    "\n",
    "**Dataset Overview:**\n",
    "- **Domain:** Transportation / Traffic Analysis  \n",
    "- **Task:** Regression   \n",
    "- **Dataset Type:** Multivariate  \n",
    "- **Number of Instances:** 48,204\n",
    "- **Number of Features:** 8  \n",
    "- **Feature Types:** Mixed (categorical, continuous, integer) \n",
    "\n",
    "**Objective:**  \n",
    "The primary objective of this project is to build an effective regression model to forecast traffic volume on the Metro Interstate  "
   ]
  },
  {
   "cell_type": "markdown",
   "id": "19c11a3e-d514-43c2-9738-5b6e0ff122dd",
   "metadata": {},
   "source": [
    "## Stage 1: Import Required Libraries"
   ]
  },
  {
   "cell_type": "code",
   "execution_count": 4,
   "id": "ee16daa0-c8ea-4f2c-a841-499973a8bdca",
   "metadata": {},
   "outputs": [],
   "source": [
    "import os\n",
    "import sys\n",
    "import pyarrow as pa\n",
    "import pandera as pa_schema\n",
    "import numpy as np\n",
    "import pandas as pd\n",
    "import requests\n",
    "from io import BytesIO\n",
    "from ydata_profiling import ProfileReport\n",
    "from sklearn.base import BaseEstimator, TransformerMixin\n",
    "from sklearn.pipeline import Pipeline\n",
    "from sklearn.compose import ColumnTransformer\n",
    "from sklearn.preprocessing import StandardScaler, OneHotEncoder\n",
    "from sklearn.impute import SimpleImputer\n",
    "from sklearn.metrics import (mean_absolute_error, mean_squared_error,\n",
    "                             mean_absolute_percentage_error, r2_score)\n",
    "from sklearn.model_selection import KFold, cross_val_score\n",
    "import xgboost as xgb\n",
    "from xgboost import XGBRegressor\n",
    "import mlflow\n",
    "import mlflow.sklearn\n",
    "import pyarrow.parquet as pq\n",
    "from sklearn.linear_model import LinearRegression, Ridge, Lasso, ElasticNet\n",
    "from sklearn.tree import DecisionTreeRegressor\n",
    "from sklearn.ensemble import RandomForestRegressor, GradientBoostingRegressor\n",
    "import warnings\n",
    "\n",
    "warnings.filterwarnings(\"ignore\")"
   ]
  },
  {
   "cell_type": "markdown",
   "id": "af76b4a9-8d8f-4854-b983-bed821834f5e",
   "metadata": {},
   "source": [
    "## Stage 2: Environment and Working Directory Info"
   ]
  },
  {
   "cell_type": "code",
   "execution_count": 6,
   "id": "f83bd1bb-a4e5-451e-8d35-78f50ac178d0",
   "metadata": {},
   "outputs": [
    {
     "name": "stdout",
     "output_type": "stream",
     "text": [
      "Python executable: C:\\Users\\india\\anaconda3\\envs\\mlops\\python.exe\n"
     ]
    }
   ],
   "source": [
    "print(\"Python executable:\", sys.executable)"
   ]
  },
  {
   "cell_type": "code",
   "execution_count": 7,
   "id": "5d1afdd8-3ff0-494c-86b3-c8ef64c0234d",
   "metadata": {},
   "outputs": [
    {
     "name": "stdout",
     "output_type": "stream",
     "text": [
      "C:\\Users\\india\\anaconda3\\envs\\mlops\\python.exe\n"
     ]
    }
   ],
   "source": [
    "import sys\n",
    "print(sys.executable)\n"
   ]
  },
  {
   "cell_type": "code",
   "execution_count": 8,
   "id": "19eb3d15-1c53-4fc9-b3d8-50ab67f8cdf1",
   "metadata": {},
   "outputs": [
    {
     "name": "stdout",
     "output_type": "stream",
     "text": [
      "\n",
      "# conda environments:\n",
      "#\n",
      "base                   C:\\Users\\india\\anaconda3\n",
      "mlops                * C:\\Users\\india\\anaconda3\\envs\\mlops\n",
      "redteam                C:\\Users\\india\\anaconda3\\envs\\redteam\n",
      "resai                  C:\\Users\\india\\anaconda3\\envs\\resai\n",
      "\n",
      "C:\\Users\\india\\anaconda3\\Scripts\\jupyter.exe\n"
     ]
    }
   ],
   "source": [
    "!conda info --envs\n",
    "!where jupyter"
   ]
  },
  {
   "cell_type": "code",
   "execution_count": 9,
   "id": "b9dfccee-cbd1-4ac1-86f2-0d0378755208",
   "metadata": {},
   "outputs": [],
   "source": [
    "# Optionally, change directory if required.\n",
    "# For example, change to the project directory (adjust the path as needed):\n",
    "project_dir = r'C:\\Users\\india\\Desktop\\Jio_Institute\\MLOps\\Project\\Nagendra\\MLOPS'\n",
    "os.chdir(project_dir)"
   ]
  },
  {
   "cell_type": "code",
   "execution_count": 10,
   "id": "0a05577f-81dc-436d-9c4d-a57bd2f2f5e7",
   "metadata": {},
   "outputs": [
    {
     "name": "stdout",
     "output_type": "stream",
     "text": [
      "Current working directory: C:\\Users\\india\\Desktop\\Jio_Institute\\MLOps\\Project\\Nagendra\\MLOPS\n",
      "Files in current directory: ['.git', '.gitignore', '.ipynb_checkpoints', 'Dataset', 'Metro_Interstate_Traffic_Volume_Profile.html', 'mlruns', 'Notebooks', 'README.md', 'requirements.txt']\n"
     ]
    }
   ],
   "source": [
    "# Display current working directory and list files\n",
    "print(\"Current working directory:\", os.getcwd())\n",
    "print(\"Files in current directory:\", os.listdir(os.getcwd()))"
   ]
  },
  {
   "cell_type": "markdown",
   "id": "09baf2a8-a97b-4af3-b213-9c6110d295fc",
   "metadata": {},
   "source": [
    "## Stage 3: Data Loading and Initial Inspection"
   ]
  },
  {
   "cell_type": "markdown",
   "id": "3191af0e-97c1-4016-8ba7-e91069e356c0",
   "metadata": {},
   "source": [
    "Load the CSV data and inspect its initial contents."
   ]
  },
  {
   "cell_type": "code",
   "execution_count": 13,
   "id": "5cf61f31-a0b4-4584-803b-5db433aad3c1",
   "metadata": {},
   "outputs": [],
   "source": [
    "# Define the path to the original CSV file\n",
    "csv_file_path = os.path.join(\"Dataset\", \"Original\", \"Metro_Interstate_Traffic_Volume.csv\")\n"
   ]
  },
  {
   "cell_type": "code",
   "execution_count": 14,
   "id": "4fbbe82e-286b-4abe-818f-e316550aaea5",
   "metadata": {},
   "outputs": [],
   "source": [
    "dtype_schema = {\n",
    "    \"holiday\": \"object\",\n",
    "    \"temp\": \"float64\",\n",
    "    \"rain_1h\": \"float64\",\n",
    "    \"snow_1h\": \"float64\",\n",
    "    \"clouds_all\": \"int64\",\n",
    "    \"weather_main\": \"object\",\n",
    "    \"weather_description\": \"object\",\n",
    "    \"traffic_volume\": \"int64\"\n",
    "}"
   ]
  },
  {
   "cell_type": "markdown",
   "id": "2cf459e7-e182-46bb-84d0-245dbe9d4729",
   "metadata": {},
   "source": [
    "Read the CSV file, now with explicit dtype and parsing the 'date_time' column."
   ]
  },
  {
   "cell_type": "code",
   "execution_count": 16,
   "id": "573e8972-f23d-4a26-a9a9-139ddbdb716b",
   "metadata": {},
   "outputs": [
    {
     "name": "stdout",
     "output_type": "stream",
     "text": [
      "<class 'pandas.core.frame.DataFrame'>\n",
      "RangeIndex: 48204 entries, 0 to 48203\n",
      "Data columns (total 9 columns):\n",
      " #   Column               Non-Null Count  Dtype         \n",
      "---  ------               --------------  -----         \n",
      " 0   holiday              61 non-null     object        \n",
      " 1   temp                 48204 non-null  float64       \n",
      " 2   rain_1h              48204 non-null  float64       \n",
      " 3   snow_1h              48204 non-null  float64       \n",
      " 4   clouds_all           48204 non-null  int64         \n",
      " 5   weather_main         48204 non-null  object        \n",
      " 6   weather_description  48204 non-null  object        \n",
      " 7   date_time            48204 non-null  datetime64[ns]\n",
      " 8   traffic_volume       48204 non-null  int64         \n",
      "dtypes: datetime64[ns](1), float64(3), int64(2), object(3)\n",
      "memory usage: 3.3+ MB\n"
     ]
    }
   ],
   "source": [
    "df = pd.read_csv(\n",
    "    os.path.join(\"Dataset\", \"Original\", \"Metro_Interstate_Traffic_Volume.csv\"),\n",
    "    dtype=dtype_schema,\n",
    "    parse_dates=[\"date_time\"]\n",
    ")\n",
    "df.info()"
   ]
  },
  {
   "cell_type": "markdown",
   "id": "3f4af6c5-7b08-4f0e-b981-0556616e7ed7",
   "metadata": {},
   "source": [
    "## Stage 4: Export DataFrame to Parquet Format"
   ]
  },
  {
   "cell_type": "code",
   "execution_count": 18,
   "id": "29ec9f7f-c814-4d44-adf7-65dc955b3c89",
   "metadata": {},
   "outputs": [],
   "source": [
    "# Define the output directory for Parquet files and create it if it doesn't exist\n",
    "output_dir = os.path.join(\"Dataset\", \"Parquet\")\n",
    "os.makedirs(output_dir, exist_ok=True)"
   ]
  },
  {
   "cell_type": "code",
   "execution_count": 19,
   "id": "ed27a4f9-1626-4dcc-888f-96de6aabe53d",
   "metadata": {},
   "outputs": [],
   "source": [
    "# Convert DataFrame to PyArrow Table\n",
    "table = pa.Table.from_pandas(df)\n",
    "\n",
    "# Define the path for the Parquet file and write the table\n",
    "parquet_file_path = os.path.join(output_dir, \"Metro_Interstate_Traffic_Volume.parquet\")\n",
    "pq.write_table(table, parquet_file_path)"
   ]
  },
  {
   "cell_type": "markdown",
   "id": "b97f281e-dca7-45ee-a00e-5006e5ea712a",
   "metadata": {},
   "source": [
    "## Stage 5: Data Profiling using ydata_profiling"
   ]
  },
  {
   "cell_type": "code",
   "execution_count": 21,
   "id": "b6fc78ba-e4e7-42ca-b0f2-5ebbfad5cabc",
   "metadata": {},
   "outputs": [],
   "source": [
    "profile = ProfileReport(\n",
    "    df,\n",
    "    title=\"Metro Interstate Traffic Volume Data Profiling Report\",\n",
    "    explorative=True\n",
    ")"
   ]
  },
  {
   "cell_type": "code",
   "execution_count": 22,
   "id": "7f78bbbb-c8ab-4044-ab6d-44ec0fa08e98",
   "metadata": {},
   "outputs": [
    {
     "data": {
      "application/vnd.jupyter.widget-view+json": {
       "model_id": "ca64d833e2d8404288973715a30c2570",
       "version_major": 2,
       "version_minor": 0
      },
      "text/plain": [
       "Summarize dataset:   0%|          | 0/5 [00:00<?, ?it/s]"
      ]
     },
     "metadata": {},
     "output_type": "display_data"
    },
    {
     "data": {
      "application/vnd.jupyter.widget-view+json": {
       "model_id": "7d087d3b080b4c20a02b4eb433b04cb5",
       "version_major": 2,
       "version_minor": 0
      },
      "text/plain": [
       "Generate report structure:   0%|          | 0/1 [00:00<?, ?it/s]"
      ]
     },
     "metadata": {},
     "output_type": "display_data"
    },
    {
     "data": {
      "application/vnd.jupyter.widget-view+json": {
       "model_id": "dbd25ac4a7ff4bd3aa87d2278317ad52",
       "version_major": 2,
       "version_minor": 0
      },
      "text/plain": [
       "Render HTML:   0%|          | 0/1 [00:00<?, ?it/s]"
      ]
     },
     "metadata": {},
     "output_type": "display_data"
    },
    {
     "data": {
      "application/vnd.jupyter.widget-view+json": {
       "model_id": "31d947cc92824adca7dbe34dcc290bf2",
       "version_major": 2,
       "version_minor": 0
      },
      "text/plain": [
       "Export report to file:   0%|          | 0/1 [00:00<?, ?it/s]"
      ]
     },
     "metadata": {},
     "output_type": "display_data"
    }
   ],
   "source": [
    "# Save the profiling report\n",
    "profile_report_path = \"Metro_Interstate_Traffic_Volume_Profile.html\"\n",
    "profile.to_file(profile_report_path)"
   ]
  },
  {
   "cell_type": "markdown",
   "id": "3e2673cc-0bf4-4a3c-9d4d-19b76bc5f6b8",
   "metadata": {},
   "source": [
    "## Stage 6: Read Parquet and Split Data into Train, Test, and Prod Sets"
   ]
  },
  {
   "cell_type": "code",
   "execution_count": 24,
   "id": "752e5fc3-63f3-4955-be8b-9ec981971d65",
   "metadata": {},
   "outputs": [],
   "source": [
    "df_parquet = pd.read_parquet(parquet_file_path)\n",
    "\n",
    "# Sort the DataFrame by 'date_time' for time series splitting\n",
    "df_parquet = df_parquet.sort_values(by=\"date_time\")\n",
    "\n",
    "# Compute indices for splitting the dataset: 60% train, 20% test, and 20% production\n",
    "n_total = len(df_parquet)\n",
    "train_end = int(0.6 * n_total)\n",
    "test_end = int(0.8 * n_total)\n"
   ]
  },
  {
   "cell_type": "code",
   "execution_count": 25,
   "id": "f710a322-0197-4faf-a11d-c999393764d7",
   "metadata": {},
   "outputs": [
    {
     "name": "stdout",
     "output_type": "stream",
     "text": [
      "Metro_Interstate_Traffic_Volume_train: 28922\n",
      "Metro_Interstate_Traffic_Volume_test: 9641\n",
      "Metro_Interstate_Traffic_Volume_prod: 9641\n"
     ]
    }
   ],
   "source": [
    "# Split the DataFrame into three parts\n",
    "train_df = df_parquet.iloc[:train_end]\n",
    "test_df = df_parquet.iloc[train_end:test_end]\n",
    "prod_df = df_parquet.iloc[test_end:]\n",
    "\n",
    "# Print the number of instances in each split\n",
    "print(\"Metro_Interstate_Traffic_Volume_train:\", len(train_df))\n",
    "print(\"Metro_Interstate_Traffic_Volume_test:\", len(test_df))\n",
    "print(\"Metro_Interstate_Traffic_Volume_prod:\", len(prod_df))"
   ]
  },
  {
   "cell_type": "code",
   "execution_count": 26,
   "id": "a0277811-f0f2-4649-91a6-028b8b311157",
   "metadata": {},
   "outputs": [],
   "source": [
    "# Save each split as a separate Parquet file\n",
    "train_df.to_parquet(os.path.join(output_dir, \"Metro_Interstate_Traffic_Volume_train.parquet\"), index=False)\n",
    "test_df.to_parquet(os.path.join(output_dir, \"Metro_Interstate_Traffic_Volume_test.parquet\"), index=False)\n",
    "prod_df.to_parquet(os.path.join(output_dir, \"Metro_Interstate_Traffic_Volume_prod.parquet\"), index=False)\n"
   ]
  },
  {
   "cell_type": "markdown",
   "id": "01edbc9f-dc45-4284-b8bb-61bb2f7a6544",
   "metadata": {},
   "source": [
    "## Stage 7: Load Data from Remote URLs"
   ]
  },
  {
   "cell_type": "markdown",
   "id": "91747813-5513-4f7f-a8f7-1fc8e4d3e932",
   "metadata": {},
   "source": [
    "In this section, we build an end-to-end machine learning pipeline that:\n",
    "- Loads the training and test datasets from GitHub.\n",
    "- Separates features from the target variable.\n",
    "- Defines separate preprocessing pipelines for numeric and categorical features.\n",
    "- Combines these preprocessors using a ColumnTransformer.\n",
    "- Integrates the preprocessor with a classifier (Logistic Regression in this example) into a single scikit-learn Pipeline.\n",
    "- Trains the model and evaluates its performance on the test set."
   ]
  },
  {
   "cell_type": "code",
   "execution_count": 29,
   "id": "6e585606-dfb5-4937-9990-e6447dacca18",
   "metadata": {},
   "outputs": [],
   "source": [
    "# Define raw URLs for train, test, and production datasets.\n",
    "TRAIN_URL = \"https://raw.githubusercontent.com/Jupudy-Nagendra/MLOPS/main/Dataset/Parquet/Metro_Interstate_Traffic_Volume_train.parquet\"\n",
    "TEST_URL  = \"https://raw.githubusercontent.com/Jupudy-Nagendra/MLOPS/main/Dataset/Parquet/Metro_Interstate_Traffic_Volume_test.parquet\"\n",
    "PROD_URL  = \"https://raw.githubusercontent.com/Jupudy-Nagendra/MLOPS/main/Dataset/Parquet/Metro_Interstate_Traffic_Volume_prod.parquet\"\n"
   ]
  },
  {
   "cell_type": "code",
   "execution_count": 30,
   "id": "47914298-aff9-43c3-8871-05b774ae0111",
   "metadata": {},
   "outputs": [],
   "source": [
    "def load_parquet_from_url(url):\n",
    "    \"\"\"Helper function to load a parquet file from a URL.\"\"\"\n",
    "    response = requests.get(url)\n",
    "    response.raise_for_status()\n",
    "    return pd.read_parquet(BytesIO(response.content))"
   ]
  },
  {
   "cell_type": "code",
   "execution_count": 31,
   "id": "7be138e9-0228-4aa7-b369-fba6cd943838",
   "metadata": {},
   "outputs": [],
   "source": [
    "# Load datasets.\n",
    "train_df = load_parquet_from_url(TRAIN_URL)\n",
    "test_df = load_parquet_from_url(TEST_URL)\n",
    "prod_df = load_parquet_from_url(PROD_URL)"
   ]
  },
  {
   "cell_type": "markdown",
   "id": "2afe983c-4b8a-4e61-b42d-92860a0dac05",
   "metadata": {},
   "source": [
    "## Stage 8: Define Custom Transformers"
   ]
  },
  {
   "cell_type": "code",
   "execution_count": 33,
   "id": "1d09b7f7-3675-42cc-a122-5fb86e7f80fe",
   "metadata": {},
   "outputs": [],
   "source": [
    "class DateTimeExtractor(BaseEstimator, TransformerMixin):\n",
    "    \"\"\"\n",
    "    Transformer to convert the 'date_time' column into datetime format\n",
    "    and extract new features: year, month, day, and hour.\n",
    "    Optionally drops the original 'date_time' column.\n",
    "    \"\"\"\n",
    "    def __init__(self, column=\"date_time\", drop_original=True):\n",
    "        self.column = column\n",
    "        self.drop_original = drop_original\n",
    "\n",
    "    def fit(self, X, y=None):\n",
    "        return self\n",
    "\n",
    "    def transform(self, X):\n",
    "        X = X.copy()\n",
    "        X[self.column] = pd.to_datetime(X[self.column])\n",
    "        X[\"year\"] = X[self.column].dt.year\n",
    "        X[\"month\"] = X[self.column].dt.month\n",
    "        X[\"day\"] = X[self.column].dt.day\n",
    "        X[\"hour\"] = X[self.column].dt.hour\n",
    "        if self.drop_original:\n",
    "            X = X.drop(columns=[self.column])\n",
    "        return X"
   ]
  },
  {
   "cell_type": "code",
   "execution_count": 34,
   "id": "7db0418b-26d6-4dff-8dc3-522181666d86",
   "metadata": {},
   "outputs": [],
   "source": [
    "class HolidayBinaryTransformer(BaseEstimator, TransformerMixin):\n",
    "    \"\"\"\n",
    "    Transformer to convert the 'holiday' column into a binary feature:\n",
    "      - 0 if missing or equal to \"None\"\n",
    "      - 1 otherwise.\n",
    "    \"\"\"\n",
    "    def fit(self, X, y=None):\n",
    "        return self\n",
    "\n",
    "    def transform(self, X):\n",
    "        # X is expected to be a DataFrame with column 'holiday'\n",
    "        binary = ((~pd.isnull(X)) & (X != \"None\")).astype(int)\n",
    "        if isinstance(binary, pd.Series):\n",
    "            binary = binary.to_frame()\n",
    "        return binary.values\n",
    "\n",
    "    def get_feature_names_out(self, input_features=None):\n",
    "        return np.array([\"holiday_binary\"])"
   ]
  },
  {
   "cell_type": "markdown",
   "id": "8c835baf-8698-412e-b892-9ce786a68134",
   "metadata": {},
   "source": [
    "## Stage 9: Build Preprocessing Pipelines"
   ]
  },
  {
   "cell_type": "code",
   "execution_count": 36,
   "id": "69b9b06e-f451-47e5-a531-9e0dff156db8",
   "metadata": {},
   "outputs": [],
   "source": [
    "# After extracting datetime features, expected columns:\n",
    "# Numeric: 'temp', 'rain_1h', 'snow_1h', 'clouds_all', 'year', 'month', 'day', 'hour'\n",
    "# Categorical: 'weather_main', 'weather_description'\n",
    "numeric_cols = [\"temp\", \"rain_1h\", \"snow_1h\", \"clouds_all\", \"year\", \"month\", \"day\", \"hour\"]\n",
    "categorical_cols = [\"weather_main\", \"weather_description\"]"
   ]
  },
  {
   "cell_type": "code",
   "execution_count": 37,
   "id": "5c76c5ea-de45-4dcd-8c39-324f3feb9307",
   "metadata": {},
   "outputs": [],
   "source": [
    "# Pipeline for numeric features: imputation and scaling.\n",
    "numeric_pipeline = Pipeline(steps=[\n",
    "    (\"imputer\", SimpleImputer(strategy=\"median\")),\n",
    "    (\"scaler\", StandardScaler())\n",
    "])"
   ]
  },
  {
   "cell_type": "code",
   "execution_count": 38,
   "id": "86bb1863-2b61-4015-ae86-202980297431",
   "metadata": {},
   "outputs": [],
   "source": [
    "# Pipeline for categorical features: imputation and one-hot encoding.\n",
    "categorical_pipeline = Pipeline(steps=[\n",
    "    (\"imputer\", SimpleImputer(strategy=\"constant\", fill_value=\"missing\")),\n",
    "    (\"onehot\", OneHotEncoder(handle_unknown=\"ignore\"))\n",
    "])"
   ]
  },
  {
   "cell_type": "code",
   "execution_count": 39,
   "id": "6664b953-f108-443c-8298-2eef61682be3",
   "metadata": {},
   "outputs": [],
   "source": [
    "# Preprocessor combines:\n",
    "# - Numeric processing on numeric_cols.\n",
    "# - Categorical processing on categorical_cols.\n",
    "# - Holiday transformation on 'holiday' column.\n",
    "preprocessor = ColumnTransformer(transformers=[\n",
    "    (\"num\", numeric_pipeline, numeric_cols),\n",
    "    (\"cat\", categorical_pipeline, categorical_cols),\n",
    "    (\"holiday\", HolidayBinaryTransformer(), [\"holiday\"])\n",
    "])"
   ]
  },
  {
   "cell_type": "code",
   "execution_count": 40,
   "id": "73052a37-5a30-44e0-b245-6c426e7f6ee6",
   "metadata": {},
   "outputs": [],
   "source": [
    "# Pipeline to extract datetime features.\n",
    "datetime_pipeline = Pipeline(steps=[\n",
    "    (\"datetime_extractor\", DateTimeExtractor(column=\"date_time\", drop_original=True))\n",
    "])"
   ]
  },
  {
   "cell_type": "code",
   "execution_count": 41,
   "id": "43e91f88-a0d0-4c6d-9b89-70b64d5b04c5",
   "metadata": {},
   "outputs": [],
   "source": [
    "# Full pipeline: datetime extraction followed by preprocessing.\n",
    "full_pipeline = Pipeline(steps=[\n",
    "    (\"datetime\", datetime_pipeline),\n",
    "    (\"preprocessor\", preprocessor)\n",
    "])"
   ]
  },
  {
   "cell_type": "markdown",
   "id": "ec3bdede-9c51-4c09-99e4-7784154f4a48",
   "metadata": {},
   "source": [
    "## Stage 10: Transform Features and Retrieve Feature Names"
   ]
  },
  {
   "cell_type": "code",
   "execution_count": 43,
   "id": "68f7f942-c8ff-4fd9-b24a-0d75027a7899",
   "metadata": {},
   "outputs": [],
   "source": [
    "# Remove target variable ('traffic_volume') for feature preprocessing.\n",
    "X_train_features = train_df.drop(columns=[\"traffic_volume\"])\n",
    "\n",
    "# Fit and transform training features.\n",
    "X_transformed = full_pipeline.fit_transform(X_train_features)"
   ]
  },
  {
   "cell_type": "code",
   "execution_count": 44,
   "id": "f578f5f1-4e86-4cc7-8c6d-43bd1afd0fdf",
   "metadata": {},
   "outputs": [
    {
     "name": "stdout",
     "output_type": "stream",
     "text": [
      "Output Feature Names:\n",
      "['num__temp' 'num__rain_1h' 'num__snow_1h' 'num__clouds_all' 'num__year'\n",
      " 'num__month' 'num__day' 'num__hour' 'cat__weather_main_Clear'\n",
      " 'cat__weather_main_Clouds' 'cat__weather_main_Drizzle'\n",
      " 'cat__weather_main_Fog' 'cat__weather_main_Haze' 'cat__weather_main_Mist'\n",
      " 'cat__weather_main_Rain' 'cat__weather_main_Smoke'\n",
      " 'cat__weather_main_Snow' 'cat__weather_main_Squall'\n",
      " 'cat__weather_main_Thunderstorm' 'cat__weather_description_SQUALLS'\n",
      " 'cat__weather_description_Sky is Clear'\n",
      " 'cat__weather_description_broken clouds'\n",
      " 'cat__weather_description_drizzle' 'cat__weather_description_few clouds'\n",
      " 'cat__weather_description_fog' 'cat__weather_description_freezing rain'\n",
      " 'cat__weather_description_haze'\n",
      " 'cat__weather_description_heavy intensity drizzle'\n",
      " 'cat__weather_description_heavy intensity rain'\n",
      " 'cat__weather_description_heavy snow'\n",
      " 'cat__weather_description_light intensity drizzle'\n",
      " 'cat__weather_description_light intensity shower rain'\n",
      " 'cat__weather_description_light rain'\n",
      " 'cat__weather_description_light rain and snow'\n",
      " 'cat__weather_description_light snow' 'cat__weather_description_mist'\n",
      " 'cat__weather_description_moderate rain'\n",
      " 'cat__weather_description_overcast clouds'\n",
      " 'cat__weather_description_proximity shower rain'\n",
      " 'cat__weather_description_proximity thunderstorm'\n",
      " 'cat__weather_description_proximity thunderstorm with drizzle'\n",
      " 'cat__weather_description_proximity thunderstorm with rain'\n",
      " 'cat__weather_description_scattered clouds'\n",
      " 'cat__weather_description_shower drizzle'\n",
      " 'cat__weather_description_shower snow'\n",
      " 'cat__weather_description_sky is clear' 'cat__weather_description_smoke'\n",
      " 'cat__weather_description_snow' 'cat__weather_description_thunderstorm'\n",
      " 'cat__weather_description_thunderstorm with drizzle'\n",
      " 'cat__weather_description_thunderstorm with heavy rain'\n",
      " 'cat__weather_description_thunderstorm with light drizzle'\n",
      " 'cat__weather_description_thunderstorm with light rain'\n",
      " 'cat__weather_description_thunderstorm with rain'\n",
      " 'cat__weather_description_very heavy rain' 'holiday__holiday_binary']\n"
     ]
    }
   ],
   "source": [
    "try:\n",
    "    feature_names = full_pipeline.named_steps[\"preprocessor\"].get_feature_names_out()\n",
    "    print(\"Output Feature Names:\")\n",
    "    print(feature_names)\n",
    "except Exception as e:\n",
    "    print(\"Error retrieving feature names:\", e)"
   ]
  },
  {
   "cell_type": "code",
   "execution_count": 45,
   "id": "57e020ee-b14e-4144-ac63-e9fc3f1f5a63",
   "metadata": {},
   "outputs": [],
   "source": [
    "target_col = \"traffic_volume\"\n",
    "\n",
    "X_train = train_df.drop(columns=[target_col])\n",
    "y_train = train_df[target_col]\n",
    "X_test = test_df.drop(columns=[target_col])\n",
    "y_test = test_df[target_col]"
   ]
  },
  {
   "cell_type": "markdown",
   "id": "786ee573-9e31-43cf-b6c8-29602b96b396",
   "metadata": {},
   "source": [
    "## Stage 11: Compare Multiple Regression Models using MLflow"
   ]
  },
  {
   "cell_type": "markdown",
   "id": "67a450a5-6c85-4031-b869-851dfe92bf5c",
   "metadata": {},
   "source": [
    "In this section, we run multiple ML experiments using different algorithms and hyperparameters. We:\n",
    "1. Set up an MLflow experiment to group all runs under a common name.\n",
    "2. Use K-Fold Cross-Validation to evaluate each model on the training set.\n",
    "3. Evaluate each model on the test set.\n",
    "4. Log parameters, metrics, and the trained model pipeline to MLflow for versioning and future reference."
   ]
  },
  {
   "cell_type": "code",
   "execution_count": 48,
   "id": "e7a7948e-fcf8-47d9-a2fc-323650cbd7e2",
   "metadata": {},
   "outputs": [],
   "source": [
    "# Define a dictionary of regression models to compare.\n",
    "regression_models = {\n",
    "    \"LinearRegression_default\": LinearRegression(),\n",
    "    \"Ridge\": Ridge(alpha=1.0),\n",
    "    \"Lasso\": Lasso(alpha=0.1),\n",
    "    \"XGBoost\": XGBRegressor(n_estimators=1000, learning_rate=0.01, random_state=42),\n",
    "    \"ElasticNet\": ElasticNet(alpha=0.1, l1_ratio=0.5),\n",
    "    \"DecisionTree\": DecisionTreeRegressor(random_state=42),\n",
    "    \"RandomForest\": RandomForestRegressor(n_estimators=10, random_state=42),\n",
    "    \"GradientBoosting\": GradientBoostingRegressor(n_estimators=100, random_state=42)\n",
    "}"
   ]
  },
  {
   "cell_type": "code",
   "execution_count": 49,
   "id": "d6c025b2-6fda-44bb-83f3-d1ce8aa84f79",
   "metadata": {},
   "outputs": [
    {
     "name": "stderr",
     "output_type": "stream",
     "text": [
      "WARNING:root:Malformed experiment '411352979973315566'. Detailed error Yaml file 'C:\\Users\\india\\Desktop\\Jio_Institute\\MLOps\\Project\\Nagendra\\MLOPS\\mlruns\\411352979973315566\\meta.yaml' does not exist.\n",
      "Traceback (most recent call last):\n",
      "  File \"C:\\Users\\india\\anaconda3\\envs\\mlops\\lib\\site-packages\\mlflow\\store\\tracking\\file_store.py\", line 329, in search_experiments\n",
      "    exp = self._get_experiment(exp_id, view_type)\n",
      "  File \"C:\\Users\\india\\anaconda3\\envs\\mlops\\lib\\site-packages\\mlflow\\store\\tracking\\file_store.py\", line 427, in _get_experiment\n",
      "    meta = FileStore._read_yaml(experiment_dir, FileStore.META_DATA_FILE_NAME)\n",
      "  File \"C:\\Users\\india\\anaconda3\\envs\\mlops\\lib\\site-packages\\mlflow\\store\\tracking\\file_store.py\", line 1373, in _read_yaml\n",
      "    return _read_helper(root, file_name, attempts_remaining=retries)\n",
      "  File \"C:\\Users\\india\\anaconda3\\envs\\mlops\\lib\\site-packages\\mlflow\\store\\tracking\\file_store.py\", line 1366, in _read_helper\n",
      "    result = read_yaml(root, file_name)\n",
      "  File \"C:\\Users\\india\\anaconda3\\envs\\mlops\\lib\\site-packages\\mlflow\\utils\\file_utils.py\", line 310, in read_yaml\n",
      "    raise MissingConfigException(f\"Yaml file '{file_path}' does not exist.\")\n",
      "mlflow.exceptions.MissingConfigException: Yaml file 'C:\\Users\\india\\Desktop\\Jio_Institute\\MLOps\\Project\\Nagendra\\MLOPS\\mlruns\\411352979973315566\\meta.yaml' does not exist.\n"
     ]
    },
    {
     "data": {
      "text/plain": [
       "<Experiment: artifact_location='file:///C:/Users/india/Desktop/Jio_Institute/MLOps/Project/Nagendra/MLOPS/mlruns/676113837923995950', creation_time=1742152402360, experiment_id='676113837923995950', last_update_time=1742152402360, lifecycle_stage='active', name='Metro_Interstate_Traffic_Volume_Group06', tags={}>"
      ]
     },
     "execution_count": 49,
     "metadata": {},
     "output_type": "execute_result"
    }
   ],
   "source": [
    "mlflow.set_experiment(\"Metro_Interstate_Traffic_Volume_Group06\")"
   ]
  },
  {
   "cell_type": "code",
   "execution_count": 50,
   "id": "932104a6-95e9-4be1-8703-0269acbd72b6",
   "metadata": {},
   "outputs": [
    {
     "name": "stdout",
     "output_type": "stream",
     "text": [
      "Current Tracking URI: file:///C:/Users/india/Desktop/Jio_Institute/MLOps/Project/Nagendra/MLOPS/mlruns\n"
     ]
    }
   ],
   "source": [
    "print(\"Current Tracking URI:\", mlflow.get_tracking_uri())"
   ]
  },
  {
   "cell_type": "code",
   "execution_count": 51,
   "id": "63e5b00a-de4f-4903-935f-ffafea9a76f9",
   "metadata": {},
   "outputs": [
    {
     "name": "stderr",
     "output_type": "stream",
     "text": [
      "2025/03/17 11:16:10 WARNING mlflow.models.model: Model logged without a signature and input example. Please set `input_example` parameter when logging the model to auto infer the model signature.\n"
     ]
    },
    {
     "name": "stdout",
     "output_type": "stream",
     "text": [
      "LinearRegression_default -> CV MAE: 1640.9151 ± 30.5411, Test MAE: 1606.3297, RMSE: 1836.0634, R2: 0.1430\n"
     ]
    },
    {
     "name": "stderr",
     "output_type": "stream",
     "text": [
      "2025/03/17 11:16:15 WARNING mlflow.models.model: Model logged without a signature and input example. Please set `input_example` parameter when logging the model to auto infer the model signature.\n"
     ]
    },
    {
     "name": "stdout",
     "output_type": "stream",
     "text": [
      "Ridge -> CV MAE: 1640.9287 ± 30.8286, Test MAE: 1606.2699, RMSE: 1835.7752, R2: 0.1432\n"
     ]
    },
    {
     "name": "stderr",
     "output_type": "stream",
     "text": [
      "2025/03/17 11:16:22 WARNING mlflow.models.model: Model logged without a signature and input example. Please set `input_example` parameter when logging the model to auto infer the model signature.\n"
     ]
    },
    {
     "name": "stdout",
     "output_type": "stream",
     "text": [
      "Lasso -> CV MAE: 1640.6042 ± 29.8682, Test MAE: 1606.2463, RMSE: 1835.2202, R2: 0.1438\n"
     ]
    },
    {
     "name": "stderr",
     "output_type": "stream",
     "text": [
      "2025/03/17 11:16:33 WARNING mlflow.models.model: Model logged without a signature and input example. Please set `input_example` parameter when logging the model to auto infer the model signature.\n"
     ]
    },
    {
     "name": "stdout",
     "output_type": "stream",
     "text": [
      "XGBoost -> CV MAE: 580.6407 ± 7.9691, Test MAE: 641.6570, RMSE: 919.9290, R2: 0.7849\n"
     ]
    },
    {
     "name": "stderr",
     "output_type": "stream",
     "text": [
      "2025/03/17 11:16:38 WARNING mlflow.models.model: Model logged without a signature and input example. Please set `input_example` parameter when logging the model to auto infer the model signature.\n"
     ]
    },
    {
     "name": "stdout",
     "output_type": "stream",
     "text": [
      "ElasticNet -> CV MAE: 1653.4365 ± 34.0695, Test MAE: 1616.5132, RMSE: 1836.4155, R2: 0.1426\n"
     ]
    },
    {
     "name": "stderr",
     "output_type": "stream",
     "text": [
      "2025/03/17 11:16:56 WARNING mlflow.models.model: Model logged without a signature and input example. Please set `input_example` parameter when logging the model to auto infer the model signature.\n"
     ]
    },
    {
     "name": "stdout",
     "output_type": "stream",
     "text": [
      "DecisionTree -> CV MAE: 604.5429 ± 17.2684, Test MAE: 771.6130, RMSE: 1285.0386, R2: 0.5802\n"
     ]
    },
    {
     "name": "stderr",
     "output_type": "stream",
     "text": [
      "2025/03/17 11:18:33 WARNING mlflow.models.model: Model logged without a signature and input example. Please set `input_example` parameter when logging the model to auto infer the model signature.\n"
     ]
    },
    {
     "name": "stdout",
     "output_type": "stream",
     "text": [
      "RandomForest -> CV MAE: 538.1640 ± 6.2096, Test MAE: 658.9647, RMSE: 993.8292, R2: 0.7489\n"
     ]
    },
    {
     "name": "stderr",
     "output_type": "stream",
     "text": [
      "2025/03/17 11:18:52 WARNING mlflow.models.model: Model logged without a signature and input example. Please set `input_example` parameter when logging the model to auto infer the model signature.\n"
     ]
    },
    {
     "name": "stdout",
     "output_type": "stream",
     "text": [
      "GradientBoosting -> CV MAE: 629.2385 ± 8.0669, Test MAE: 634.1179, RMSE: 903.6135, R2: 0.7924\n"
     ]
    }
   ],
   "source": [
    "# Evaluate each model using 5-fold cross-validation.\n",
    "for model_name, reg_model in regression_models.items():\n",
    "    with mlflow.start_run(run_name=model_name):\n",
    "        mlflow.log_param(\"model_name\", model_name)\n",
    "        \n",
    "        # Build a full pipeline for the current model.\n",
    "        pipeline = Pipeline(steps=[\n",
    "            (\"datetime\", datetime_pipeline),\n",
    "            (\"preprocessor\", preprocessor),\n",
    "            (\"regressor\", reg_model)\n",
    "        ])\n",
    "        \n",
    "        # 5-fold cross-validation.\n",
    "        kfold = KFold(n_splits=5, shuffle=True, random_state=42)\n",
    "        cv_scores = cross_val_score(pipeline, X_train, y_train,\n",
    "                                    cv=kfold, scoring=\"neg_mean_absolute_error\")\n",
    "        mean_cv = np.mean(np.abs(cv_scores))\n",
    "        std_cv = np.std(np.abs(cv_scores))\n",
    "        mlflow.log_metric(\"cv_mean_MAE\", mean_cv)\n",
    "        mlflow.log_metric(\"cv_std_MAE\", std_cv)\n",
    "        \n",
    "        # Train on the full training data.\n",
    "        pipeline.fit(X_train, y_train)\n",
    "        \n",
    "        # Evaluate on the test set.\n",
    "        y_pred_model = pipeline.predict(X_test)\n",
    "        mae_val = mean_absolute_error(y_test, y_pred_model)\n",
    "        mse_val = mean_squared_error(y_test, y_pred_model)\n",
    "        rmse_val = np.sqrt(mse_val)\n",
    "        mape_val = mean_absolute_percentage_error(y_test, y_pred_model)\n",
    "        r2_val = r2_score(y_test, y_pred_model)\n",
    "        mlflow.log_metric(\"test_MAE\", mae_val)\n",
    "        mlflow.log_metric(\"test_MSE\", mse_val)\n",
    "        mlflow.log_metric(\"test_RMSE\", rmse_val)\n",
    "        mlflow.log_metric(\"test_MAPE\", mape_val)\n",
    "        mlflow.log_metric(\"test_R2\", r2_val)\n",
    "        \n",
    "        # Log the trained model.\n",
    "        mlflow.sklearn.log_model(pipeline, \"model\")\n",
    "        \n",
    "        print(f\"{model_name} -> CV MAE: {mean_cv:.4f} ± {std_cv:.4f}, \"\n",
    "              f\"Test MAE: {mae_val:.4f}, RMSE: {rmse_val:.4f}, R2: {r2_val:.4f}\")\n"
   ]
  },
  {
   "cell_type": "code",
   "execution_count": 52,
   "id": "66240377-5859-4a6a-bc61-d229089c16e0",
   "metadata": {},
   "outputs": [
    {
     "data": {
      "text/html": [
       "<style>#sk-container-id-1 {\n",
       "  /* Definition of color scheme common for light and dark mode */\n",
       "  --sklearn-color-text: #000;\n",
       "  --sklearn-color-text-muted: #666;\n",
       "  --sklearn-color-line: gray;\n",
       "  /* Definition of color scheme for unfitted estimators */\n",
       "  --sklearn-color-unfitted-level-0: #fff5e6;\n",
       "  --sklearn-color-unfitted-level-1: #f6e4d2;\n",
       "  --sklearn-color-unfitted-level-2: #ffe0b3;\n",
       "  --sklearn-color-unfitted-level-3: chocolate;\n",
       "  /* Definition of color scheme for fitted estimators */\n",
       "  --sklearn-color-fitted-level-0: #f0f8ff;\n",
       "  --sklearn-color-fitted-level-1: #d4ebff;\n",
       "  --sklearn-color-fitted-level-2: #b3dbfd;\n",
       "  --sklearn-color-fitted-level-3: cornflowerblue;\n",
       "\n",
       "  /* Specific color for light theme */\n",
       "  --sklearn-color-text-on-default-background: var(--sg-text-color, var(--theme-code-foreground, var(--jp-content-font-color1, black)));\n",
       "  --sklearn-color-background: var(--sg-background-color, var(--theme-background, var(--jp-layout-color0, white)));\n",
       "  --sklearn-color-border-box: var(--sg-text-color, var(--theme-code-foreground, var(--jp-content-font-color1, black)));\n",
       "  --sklearn-color-icon: #696969;\n",
       "\n",
       "  @media (prefers-color-scheme: dark) {\n",
       "    /* Redefinition of color scheme for dark theme */\n",
       "    --sklearn-color-text-on-default-background: var(--sg-text-color, var(--theme-code-foreground, var(--jp-content-font-color1, white)));\n",
       "    --sklearn-color-background: var(--sg-background-color, var(--theme-background, var(--jp-layout-color0, #111)));\n",
       "    --sklearn-color-border-box: var(--sg-text-color, var(--theme-code-foreground, var(--jp-content-font-color1, white)));\n",
       "    --sklearn-color-icon: #878787;\n",
       "  }\n",
       "}\n",
       "\n",
       "#sk-container-id-1 {\n",
       "  color: var(--sklearn-color-text);\n",
       "}\n",
       "\n",
       "#sk-container-id-1 pre {\n",
       "  padding: 0;\n",
       "}\n",
       "\n",
       "#sk-container-id-1 input.sk-hidden--visually {\n",
       "  border: 0;\n",
       "  clip: rect(1px 1px 1px 1px);\n",
       "  clip: rect(1px, 1px, 1px, 1px);\n",
       "  height: 1px;\n",
       "  margin: -1px;\n",
       "  overflow: hidden;\n",
       "  padding: 0;\n",
       "  position: absolute;\n",
       "  width: 1px;\n",
       "}\n",
       "\n",
       "#sk-container-id-1 div.sk-dashed-wrapped {\n",
       "  border: 1px dashed var(--sklearn-color-line);\n",
       "  margin: 0 0.4em 0.5em 0.4em;\n",
       "  box-sizing: border-box;\n",
       "  padding-bottom: 0.4em;\n",
       "  background-color: var(--sklearn-color-background);\n",
       "}\n",
       "\n",
       "#sk-container-id-1 div.sk-container {\n",
       "  /* jupyter's `normalize.less` sets `[hidden] { display: none; }`\n",
       "     but bootstrap.min.css set `[hidden] { display: none !important; }`\n",
       "     so we also need the `!important` here to be able to override the\n",
       "     default hidden behavior on the sphinx rendered scikit-learn.org.\n",
       "     See: https://github.com/scikit-learn/scikit-learn/issues/21755 */\n",
       "  display: inline-block !important;\n",
       "  position: relative;\n",
       "}\n",
       "\n",
       "#sk-container-id-1 div.sk-text-repr-fallback {\n",
       "  display: none;\n",
       "}\n",
       "\n",
       "div.sk-parallel-item,\n",
       "div.sk-serial,\n",
       "div.sk-item {\n",
       "  /* draw centered vertical line to link estimators */\n",
       "  background-image: linear-gradient(var(--sklearn-color-text-on-default-background), var(--sklearn-color-text-on-default-background));\n",
       "  background-size: 2px 100%;\n",
       "  background-repeat: no-repeat;\n",
       "  background-position: center center;\n",
       "}\n",
       "\n",
       "/* Parallel-specific style estimator block */\n",
       "\n",
       "#sk-container-id-1 div.sk-parallel-item::after {\n",
       "  content: \"\";\n",
       "  width: 100%;\n",
       "  border-bottom: 2px solid var(--sklearn-color-text-on-default-background);\n",
       "  flex-grow: 1;\n",
       "}\n",
       "\n",
       "#sk-container-id-1 div.sk-parallel {\n",
       "  display: flex;\n",
       "  align-items: stretch;\n",
       "  justify-content: center;\n",
       "  background-color: var(--sklearn-color-background);\n",
       "  position: relative;\n",
       "}\n",
       "\n",
       "#sk-container-id-1 div.sk-parallel-item {\n",
       "  display: flex;\n",
       "  flex-direction: column;\n",
       "}\n",
       "\n",
       "#sk-container-id-1 div.sk-parallel-item:first-child::after {\n",
       "  align-self: flex-end;\n",
       "  width: 50%;\n",
       "}\n",
       "\n",
       "#sk-container-id-1 div.sk-parallel-item:last-child::after {\n",
       "  align-self: flex-start;\n",
       "  width: 50%;\n",
       "}\n",
       "\n",
       "#sk-container-id-1 div.sk-parallel-item:only-child::after {\n",
       "  width: 0;\n",
       "}\n",
       "\n",
       "/* Serial-specific style estimator block */\n",
       "\n",
       "#sk-container-id-1 div.sk-serial {\n",
       "  display: flex;\n",
       "  flex-direction: column;\n",
       "  align-items: center;\n",
       "  background-color: var(--sklearn-color-background);\n",
       "  padding-right: 1em;\n",
       "  padding-left: 1em;\n",
       "}\n",
       "\n",
       "\n",
       "/* Toggleable style: style used for estimator/Pipeline/ColumnTransformer box that is\n",
       "clickable and can be expanded/collapsed.\n",
       "- Pipeline and ColumnTransformer use this feature and define the default style\n",
       "- Estimators will overwrite some part of the style using the `sk-estimator` class\n",
       "*/\n",
       "\n",
       "/* Pipeline and ColumnTransformer style (default) */\n",
       "\n",
       "#sk-container-id-1 div.sk-toggleable {\n",
       "  /* Default theme specific background. It is overwritten whether we have a\n",
       "  specific estimator or a Pipeline/ColumnTransformer */\n",
       "  background-color: var(--sklearn-color-background);\n",
       "}\n",
       "\n",
       "/* Toggleable label */\n",
       "#sk-container-id-1 label.sk-toggleable__label {\n",
       "  cursor: pointer;\n",
       "  display: flex;\n",
       "  width: 100%;\n",
       "  margin-bottom: 0;\n",
       "  padding: 0.5em;\n",
       "  box-sizing: border-box;\n",
       "  text-align: center;\n",
       "  align-items: start;\n",
       "  justify-content: space-between;\n",
       "  gap: 0.5em;\n",
       "}\n",
       "\n",
       "#sk-container-id-1 label.sk-toggleable__label .caption {\n",
       "  font-size: 0.6rem;\n",
       "  font-weight: lighter;\n",
       "  color: var(--sklearn-color-text-muted);\n",
       "}\n",
       "\n",
       "#sk-container-id-1 label.sk-toggleable__label-arrow:before {\n",
       "  /* Arrow on the left of the label */\n",
       "  content: \"▸\";\n",
       "  float: left;\n",
       "  margin-right: 0.25em;\n",
       "  color: var(--sklearn-color-icon);\n",
       "}\n",
       "\n",
       "#sk-container-id-1 label.sk-toggleable__label-arrow:hover:before {\n",
       "  color: var(--sklearn-color-text);\n",
       "}\n",
       "\n",
       "/* Toggleable content - dropdown */\n",
       "\n",
       "#sk-container-id-1 div.sk-toggleable__content {\n",
       "  max-height: 0;\n",
       "  max-width: 0;\n",
       "  overflow: hidden;\n",
       "  text-align: left;\n",
       "  /* unfitted */\n",
       "  background-color: var(--sklearn-color-unfitted-level-0);\n",
       "}\n",
       "\n",
       "#sk-container-id-1 div.sk-toggleable__content.fitted {\n",
       "  /* fitted */\n",
       "  background-color: var(--sklearn-color-fitted-level-0);\n",
       "}\n",
       "\n",
       "#sk-container-id-1 div.sk-toggleable__content pre {\n",
       "  margin: 0.2em;\n",
       "  border-radius: 0.25em;\n",
       "  color: var(--sklearn-color-text);\n",
       "  /* unfitted */\n",
       "  background-color: var(--sklearn-color-unfitted-level-0);\n",
       "}\n",
       "\n",
       "#sk-container-id-1 div.sk-toggleable__content.fitted pre {\n",
       "  /* unfitted */\n",
       "  background-color: var(--sklearn-color-fitted-level-0);\n",
       "}\n",
       "\n",
       "#sk-container-id-1 input.sk-toggleable__control:checked~div.sk-toggleable__content {\n",
       "  /* Expand drop-down */\n",
       "  max-height: 200px;\n",
       "  max-width: 100%;\n",
       "  overflow: auto;\n",
       "}\n",
       "\n",
       "#sk-container-id-1 input.sk-toggleable__control:checked~label.sk-toggleable__label-arrow:before {\n",
       "  content: \"▾\";\n",
       "}\n",
       "\n",
       "/* Pipeline/ColumnTransformer-specific style */\n",
       "\n",
       "#sk-container-id-1 div.sk-label input.sk-toggleable__control:checked~label.sk-toggleable__label {\n",
       "  color: var(--sklearn-color-text);\n",
       "  background-color: var(--sklearn-color-unfitted-level-2);\n",
       "}\n",
       "\n",
       "#sk-container-id-1 div.sk-label.fitted input.sk-toggleable__control:checked~label.sk-toggleable__label {\n",
       "  background-color: var(--sklearn-color-fitted-level-2);\n",
       "}\n",
       "\n",
       "/* Estimator-specific style */\n",
       "\n",
       "/* Colorize estimator box */\n",
       "#sk-container-id-1 div.sk-estimator input.sk-toggleable__control:checked~label.sk-toggleable__label {\n",
       "  /* unfitted */\n",
       "  background-color: var(--sklearn-color-unfitted-level-2);\n",
       "}\n",
       "\n",
       "#sk-container-id-1 div.sk-estimator.fitted input.sk-toggleable__control:checked~label.sk-toggleable__label {\n",
       "  /* fitted */\n",
       "  background-color: var(--sklearn-color-fitted-level-2);\n",
       "}\n",
       "\n",
       "#sk-container-id-1 div.sk-label label.sk-toggleable__label,\n",
       "#sk-container-id-1 div.sk-label label {\n",
       "  /* The background is the default theme color */\n",
       "  color: var(--sklearn-color-text-on-default-background);\n",
       "}\n",
       "\n",
       "/* On hover, darken the color of the background */\n",
       "#sk-container-id-1 div.sk-label:hover label.sk-toggleable__label {\n",
       "  color: var(--sklearn-color-text);\n",
       "  background-color: var(--sklearn-color-unfitted-level-2);\n",
       "}\n",
       "\n",
       "/* Label box, darken color on hover, fitted */\n",
       "#sk-container-id-1 div.sk-label.fitted:hover label.sk-toggleable__label.fitted {\n",
       "  color: var(--sklearn-color-text);\n",
       "  background-color: var(--sklearn-color-fitted-level-2);\n",
       "}\n",
       "\n",
       "/* Estimator label */\n",
       "\n",
       "#sk-container-id-1 div.sk-label label {\n",
       "  font-family: monospace;\n",
       "  font-weight: bold;\n",
       "  display: inline-block;\n",
       "  line-height: 1.2em;\n",
       "}\n",
       "\n",
       "#sk-container-id-1 div.sk-label-container {\n",
       "  text-align: center;\n",
       "}\n",
       "\n",
       "/* Estimator-specific */\n",
       "#sk-container-id-1 div.sk-estimator {\n",
       "  font-family: monospace;\n",
       "  border: 1px dotted var(--sklearn-color-border-box);\n",
       "  border-radius: 0.25em;\n",
       "  box-sizing: border-box;\n",
       "  margin-bottom: 0.5em;\n",
       "  /* unfitted */\n",
       "  background-color: var(--sklearn-color-unfitted-level-0);\n",
       "}\n",
       "\n",
       "#sk-container-id-1 div.sk-estimator.fitted {\n",
       "  /* fitted */\n",
       "  background-color: var(--sklearn-color-fitted-level-0);\n",
       "}\n",
       "\n",
       "/* on hover */\n",
       "#sk-container-id-1 div.sk-estimator:hover {\n",
       "  /* unfitted */\n",
       "  background-color: var(--sklearn-color-unfitted-level-2);\n",
       "}\n",
       "\n",
       "#sk-container-id-1 div.sk-estimator.fitted:hover {\n",
       "  /* fitted */\n",
       "  background-color: var(--sklearn-color-fitted-level-2);\n",
       "}\n",
       "\n",
       "/* Specification for estimator info (e.g. \"i\" and \"?\") */\n",
       "\n",
       "/* Common style for \"i\" and \"?\" */\n",
       "\n",
       ".sk-estimator-doc-link,\n",
       "a:link.sk-estimator-doc-link,\n",
       "a:visited.sk-estimator-doc-link {\n",
       "  float: right;\n",
       "  font-size: smaller;\n",
       "  line-height: 1em;\n",
       "  font-family: monospace;\n",
       "  background-color: var(--sklearn-color-background);\n",
       "  border-radius: 1em;\n",
       "  height: 1em;\n",
       "  width: 1em;\n",
       "  text-decoration: none !important;\n",
       "  margin-left: 0.5em;\n",
       "  text-align: center;\n",
       "  /* unfitted */\n",
       "  border: var(--sklearn-color-unfitted-level-1) 1pt solid;\n",
       "  color: var(--sklearn-color-unfitted-level-1);\n",
       "}\n",
       "\n",
       ".sk-estimator-doc-link.fitted,\n",
       "a:link.sk-estimator-doc-link.fitted,\n",
       "a:visited.sk-estimator-doc-link.fitted {\n",
       "  /* fitted */\n",
       "  border: var(--sklearn-color-fitted-level-1) 1pt solid;\n",
       "  color: var(--sklearn-color-fitted-level-1);\n",
       "}\n",
       "\n",
       "/* On hover */\n",
       "div.sk-estimator:hover .sk-estimator-doc-link:hover,\n",
       ".sk-estimator-doc-link:hover,\n",
       "div.sk-label-container:hover .sk-estimator-doc-link:hover,\n",
       ".sk-estimator-doc-link:hover {\n",
       "  /* unfitted */\n",
       "  background-color: var(--sklearn-color-unfitted-level-3);\n",
       "  color: var(--sklearn-color-background);\n",
       "  text-decoration: none;\n",
       "}\n",
       "\n",
       "div.sk-estimator.fitted:hover .sk-estimator-doc-link.fitted:hover,\n",
       ".sk-estimator-doc-link.fitted:hover,\n",
       "div.sk-label-container:hover .sk-estimator-doc-link.fitted:hover,\n",
       ".sk-estimator-doc-link.fitted:hover {\n",
       "  /* fitted */\n",
       "  background-color: var(--sklearn-color-fitted-level-3);\n",
       "  color: var(--sklearn-color-background);\n",
       "  text-decoration: none;\n",
       "}\n",
       "\n",
       "/* Span, style for the box shown on hovering the info icon */\n",
       ".sk-estimator-doc-link span {\n",
       "  display: none;\n",
       "  z-index: 9999;\n",
       "  position: relative;\n",
       "  font-weight: normal;\n",
       "  right: .2ex;\n",
       "  padding: .5ex;\n",
       "  margin: .5ex;\n",
       "  width: min-content;\n",
       "  min-width: 20ex;\n",
       "  max-width: 50ex;\n",
       "  color: var(--sklearn-color-text);\n",
       "  box-shadow: 2pt 2pt 4pt #999;\n",
       "  /* unfitted */\n",
       "  background: var(--sklearn-color-unfitted-level-0);\n",
       "  border: .5pt solid var(--sklearn-color-unfitted-level-3);\n",
       "}\n",
       "\n",
       ".sk-estimator-doc-link.fitted span {\n",
       "  /* fitted */\n",
       "  background: var(--sklearn-color-fitted-level-0);\n",
       "  border: var(--sklearn-color-fitted-level-3);\n",
       "}\n",
       "\n",
       ".sk-estimator-doc-link:hover span {\n",
       "  display: block;\n",
       "}\n",
       "\n",
       "/* \"?\"-specific style due to the `<a>` HTML tag */\n",
       "\n",
       "#sk-container-id-1 a.estimator_doc_link {\n",
       "  float: right;\n",
       "  font-size: 1rem;\n",
       "  line-height: 1em;\n",
       "  font-family: monospace;\n",
       "  background-color: var(--sklearn-color-background);\n",
       "  border-radius: 1rem;\n",
       "  height: 1rem;\n",
       "  width: 1rem;\n",
       "  text-decoration: none;\n",
       "  /* unfitted */\n",
       "  color: var(--sklearn-color-unfitted-level-1);\n",
       "  border: var(--sklearn-color-unfitted-level-1) 1pt solid;\n",
       "}\n",
       "\n",
       "#sk-container-id-1 a.estimator_doc_link.fitted {\n",
       "  /* fitted */\n",
       "  border: var(--sklearn-color-fitted-level-1) 1pt solid;\n",
       "  color: var(--sklearn-color-fitted-level-1);\n",
       "}\n",
       "\n",
       "/* On hover */\n",
       "#sk-container-id-1 a.estimator_doc_link:hover {\n",
       "  /* unfitted */\n",
       "  background-color: var(--sklearn-color-unfitted-level-3);\n",
       "  color: var(--sklearn-color-background);\n",
       "  text-decoration: none;\n",
       "}\n",
       "\n",
       "#sk-container-id-1 a.estimator_doc_link.fitted:hover {\n",
       "  /* fitted */\n",
       "  background-color: var(--sklearn-color-fitted-level-3);\n",
       "}\n",
       "</style><div id=\"sk-container-id-1\" class=\"sk-top-container\"><div class=\"sk-text-repr-fallback\"><pre>Pipeline(steps=[(&#x27;datetime&#x27;,\n",
       "                 Pipeline(steps=[(&#x27;datetime_extractor&#x27;, DateTimeExtractor())])),\n",
       "                (&#x27;preprocessor&#x27;,\n",
       "                 ColumnTransformer(transformers=[(&#x27;num&#x27;,\n",
       "                                                  Pipeline(steps=[(&#x27;imputer&#x27;,\n",
       "                                                                   SimpleImputer(strategy=&#x27;median&#x27;)),\n",
       "                                                                  (&#x27;scaler&#x27;,\n",
       "                                                                   StandardScaler())]),\n",
       "                                                  [&#x27;temp&#x27;, &#x27;rain_1h&#x27;, &#x27;snow_1h&#x27;,\n",
       "                                                   &#x27;clouds_all&#x27;, &#x27;year&#x27;,\n",
       "                                                   &#x27;month&#x27;, &#x27;day&#x27;, &#x27;hour&#x27;]),\n",
       "                                                 (&#x27;cat&#x27;,\n",
       "                                                  Pipeline(steps=[(&#x27;imputer&#x27;,\n",
       "                                                                   SimpleImputer(fill_value=&#x27;missing&#x27;,\n",
       "                                                                                 strategy=&#x27;constant&#x27;)),\n",
       "                                                                  (&#x27;onehot&#x27;,\n",
       "                                                                   OneHotEncoder(handle_unknown=&#x27;ignore&#x27;))]),\n",
       "                                                  [&#x27;weather_main&#x27;,\n",
       "                                                   &#x27;weather_description&#x27;]),\n",
       "                                                 (&#x27;holiday&#x27;,\n",
       "                                                  HolidayBinaryTransformer(),\n",
       "                                                  [&#x27;holiday&#x27;])])),\n",
       "                (&#x27;regressor&#x27;, GradientBoostingRegressor(random_state=42))])</pre><b>In a Jupyter environment, please rerun this cell to show the HTML representation or trust the notebook. <br />On GitHub, the HTML representation is unable to render, please try loading this page with nbviewer.org.</b></div><div class=\"sk-container\" hidden><div class=\"sk-item sk-dashed-wrapped\"><div class=\"sk-label-container\"><div class=\"sk-label fitted sk-toggleable\"><input class=\"sk-toggleable__control sk-hidden--visually\" id=\"sk-estimator-id-1\" type=\"checkbox\" ><label for=\"sk-estimator-id-1\" class=\"sk-toggleable__label fitted sk-toggleable__label-arrow\"><div><div>Pipeline</div></div><div><a class=\"sk-estimator-doc-link fitted\" rel=\"noreferrer\" target=\"_blank\" href=\"https://scikit-learn.org/1.6/modules/generated/sklearn.pipeline.Pipeline.html\">?<span>Documentation for Pipeline</span></a><span class=\"sk-estimator-doc-link fitted\">i<span>Fitted</span></span></div></label><div class=\"sk-toggleable__content fitted\"><pre>Pipeline(steps=[(&#x27;datetime&#x27;,\n",
       "                 Pipeline(steps=[(&#x27;datetime_extractor&#x27;, DateTimeExtractor())])),\n",
       "                (&#x27;preprocessor&#x27;,\n",
       "                 ColumnTransformer(transformers=[(&#x27;num&#x27;,\n",
       "                                                  Pipeline(steps=[(&#x27;imputer&#x27;,\n",
       "                                                                   SimpleImputer(strategy=&#x27;median&#x27;)),\n",
       "                                                                  (&#x27;scaler&#x27;,\n",
       "                                                                   StandardScaler())]),\n",
       "                                                  [&#x27;temp&#x27;, &#x27;rain_1h&#x27;, &#x27;snow_1h&#x27;,\n",
       "                                                   &#x27;clouds_all&#x27;, &#x27;year&#x27;,\n",
       "                                                   &#x27;month&#x27;, &#x27;day&#x27;, &#x27;hour&#x27;]),\n",
       "                                                 (&#x27;cat&#x27;,\n",
       "                                                  Pipeline(steps=[(&#x27;imputer&#x27;,\n",
       "                                                                   SimpleImputer(fill_value=&#x27;missing&#x27;,\n",
       "                                                                                 strategy=&#x27;constant&#x27;)),\n",
       "                                                                  (&#x27;onehot&#x27;,\n",
       "                                                                   OneHotEncoder(handle_unknown=&#x27;ignore&#x27;))]),\n",
       "                                                  [&#x27;weather_main&#x27;,\n",
       "                                                   &#x27;weather_description&#x27;]),\n",
       "                                                 (&#x27;holiday&#x27;,\n",
       "                                                  HolidayBinaryTransformer(),\n",
       "                                                  [&#x27;holiday&#x27;])])),\n",
       "                (&#x27;regressor&#x27;, GradientBoostingRegressor(random_state=42))])</pre></div> </div></div><div class=\"sk-serial\"><div class=\"sk-item\"><div class=\"sk-label-container\"><div class=\"sk-label fitted sk-toggleable\"><input class=\"sk-toggleable__control sk-hidden--visually\" id=\"sk-estimator-id-2\" type=\"checkbox\" ><label for=\"sk-estimator-id-2\" class=\"sk-toggleable__label fitted sk-toggleable__label-arrow\"><div><div>datetime: Pipeline</div></div><div><a class=\"sk-estimator-doc-link fitted\" rel=\"noreferrer\" target=\"_blank\" href=\"https://scikit-learn.org/1.6/modules/generated/sklearn.pipeline.Pipeline.html\">?<span>Documentation for datetime: Pipeline</span></a></div></label><div class=\"sk-toggleable__content fitted\"><pre>Pipeline(steps=[(&#x27;datetime_extractor&#x27;, DateTimeExtractor())])</pre></div> </div></div><div class=\"sk-serial\"><div class=\"sk-item\"><div class=\"sk-estimator fitted sk-toggleable\"><input class=\"sk-toggleable__control sk-hidden--visually\" id=\"sk-estimator-id-3\" type=\"checkbox\" ><label for=\"sk-estimator-id-3\" class=\"sk-toggleable__label fitted sk-toggleable__label-arrow\"><div><div>DateTimeExtractor</div></div></label><div class=\"sk-toggleable__content fitted\"><pre>DateTimeExtractor()</pre></div> </div></div></div></div><div class=\"sk-item sk-dashed-wrapped\"><div class=\"sk-label-container\"><div class=\"sk-label fitted sk-toggleable\"><input class=\"sk-toggleable__control sk-hidden--visually\" id=\"sk-estimator-id-4\" type=\"checkbox\" ><label for=\"sk-estimator-id-4\" class=\"sk-toggleable__label fitted sk-toggleable__label-arrow\"><div><div>preprocessor: ColumnTransformer</div></div><div><a class=\"sk-estimator-doc-link fitted\" rel=\"noreferrer\" target=\"_blank\" href=\"https://scikit-learn.org/1.6/modules/generated/sklearn.compose.ColumnTransformer.html\">?<span>Documentation for preprocessor: ColumnTransformer</span></a></div></label><div class=\"sk-toggleable__content fitted\"><pre>ColumnTransformer(transformers=[(&#x27;num&#x27;,\n",
       "                                 Pipeline(steps=[(&#x27;imputer&#x27;,\n",
       "                                                  SimpleImputer(strategy=&#x27;median&#x27;)),\n",
       "                                                 (&#x27;scaler&#x27;, StandardScaler())]),\n",
       "                                 [&#x27;temp&#x27;, &#x27;rain_1h&#x27;, &#x27;snow_1h&#x27;, &#x27;clouds_all&#x27;,\n",
       "                                  &#x27;year&#x27;, &#x27;month&#x27;, &#x27;day&#x27;, &#x27;hour&#x27;]),\n",
       "                                (&#x27;cat&#x27;,\n",
       "                                 Pipeline(steps=[(&#x27;imputer&#x27;,\n",
       "                                                  SimpleImputer(fill_value=&#x27;missing&#x27;,\n",
       "                                                                strategy=&#x27;constant&#x27;)),\n",
       "                                                 (&#x27;onehot&#x27;,\n",
       "                                                  OneHotEncoder(handle_unknown=&#x27;ignore&#x27;))]),\n",
       "                                 [&#x27;weather_main&#x27;, &#x27;weather_description&#x27;]),\n",
       "                                (&#x27;holiday&#x27;, HolidayBinaryTransformer(),\n",
       "                                 [&#x27;holiday&#x27;])])</pre></div> </div></div><div class=\"sk-parallel\"><div class=\"sk-parallel-item\"><div class=\"sk-item\"><div class=\"sk-label-container\"><div class=\"sk-label fitted sk-toggleable\"><input class=\"sk-toggleable__control sk-hidden--visually\" id=\"sk-estimator-id-5\" type=\"checkbox\" ><label for=\"sk-estimator-id-5\" class=\"sk-toggleable__label fitted sk-toggleable__label-arrow\"><div><div>num</div></div></label><div class=\"sk-toggleable__content fitted\"><pre>[&#x27;temp&#x27;, &#x27;rain_1h&#x27;, &#x27;snow_1h&#x27;, &#x27;clouds_all&#x27;, &#x27;year&#x27;, &#x27;month&#x27;, &#x27;day&#x27;, &#x27;hour&#x27;]</pre></div> </div></div><div class=\"sk-serial\"><div class=\"sk-item\"><div class=\"sk-serial\"><div class=\"sk-item\"><div class=\"sk-estimator fitted sk-toggleable\"><input class=\"sk-toggleable__control sk-hidden--visually\" id=\"sk-estimator-id-6\" type=\"checkbox\" ><label for=\"sk-estimator-id-6\" class=\"sk-toggleable__label fitted sk-toggleable__label-arrow\"><div><div>SimpleImputer</div></div><div><a class=\"sk-estimator-doc-link fitted\" rel=\"noreferrer\" target=\"_blank\" href=\"https://scikit-learn.org/1.6/modules/generated/sklearn.impute.SimpleImputer.html\">?<span>Documentation for SimpleImputer</span></a></div></label><div class=\"sk-toggleable__content fitted\"><pre>SimpleImputer(strategy=&#x27;median&#x27;)</pre></div> </div></div><div class=\"sk-item\"><div class=\"sk-estimator fitted sk-toggleable\"><input class=\"sk-toggleable__control sk-hidden--visually\" id=\"sk-estimator-id-7\" type=\"checkbox\" ><label for=\"sk-estimator-id-7\" class=\"sk-toggleable__label fitted sk-toggleable__label-arrow\"><div><div>StandardScaler</div></div><div><a class=\"sk-estimator-doc-link fitted\" rel=\"noreferrer\" target=\"_blank\" href=\"https://scikit-learn.org/1.6/modules/generated/sklearn.preprocessing.StandardScaler.html\">?<span>Documentation for StandardScaler</span></a></div></label><div class=\"sk-toggleable__content fitted\"><pre>StandardScaler()</pre></div> </div></div></div></div></div></div></div><div class=\"sk-parallel-item\"><div class=\"sk-item\"><div class=\"sk-label-container\"><div class=\"sk-label fitted sk-toggleable\"><input class=\"sk-toggleable__control sk-hidden--visually\" id=\"sk-estimator-id-8\" type=\"checkbox\" ><label for=\"sk-estimator-id-8\" class=\"sk-toggleable__label fitted sk-toggleable__label-arrow\"><div><div>cat</div></div></label><div class=\"sk-toggleable__content fitted\"><pre>[&#x27;weather_main&#x27;, &#x27;weather_description&#x27;]</pre></div> </div></div><div class=\"sk-serial\"><div class=\"sk-item\"><div class=\"sk-serial\"><div class=\"sk-item\"><div class=\"sk-estimator fitted sk-toggleable\"><input class=\"sk-toggleable__control sk-hidden--visually\" id=\"sk-estimator-id-9\" type=\"checkbox\" ><label for=\"sk-estimator-id-9\" class=\"sk-toggleable__label fitted sk-toggleable__label-arrow\"><div><div>SimpleImputer</div></div><div><a class=\"sk-estimator-doc-link fitted\" rel=\"noreferrer\" target=\"_blank\" href=\"https://scikit-learn.org/1.6/modules/generated/sklearn.impute.SimpleImputer.html\">?<span>Documentation for SimpleImputer</span></a></div></label><div class=\"sk-toggleable__content fitted\"><pre>SimpleImputer(fill_value=&#x27;missing&#x27;, strategy=&#x27;constant&#x27;)</pre></div> </div></div><div class=\"sk-item\"><div class=\"sk-estimator fitted sk-toggleable\"><input class=\"sk-toggleable__control sk-hidden--visually\" id=\"sk-estimator-id-10\" type=\"checkbox\" ><label for=\"sk-estimator-id-10\" class=\"sk-toggleable__label fitted sk-toggleable__label-arrow\"><div><div>OneHotEncoder</div></div><div><a class=\"sk-estimator-doc-link fitted\" rel=\"noreferrer\" target=\"_blank\" href=\"https://scikit-learn.org/1.6/modules/generated/sklearn.preprocessing.OneHotEncoder.html\">?<span>Documentation for OneHotEncoder</span></a></div></label><div class=\"sk-toggleable__content fitted\"><pre>OneHotEncoder(handle_unknown=&#x27;ignore&#x27;)</pre></div> </div></div></div></div></div></div></div><div class=\"sk-parallel-item\"><div class=\"sk-item\"><div class=\"sk-label-container\"><div class=\"sk-label fitted sk-toggleable\"><input class=\"sk-toggleable__control sk-hidden--visually\" id=\"sk-estimator-id-11\" type=\"checkbox\" ><label for=\"sk-estimator-id-11\" class=\"sk-toggleable__label fitted sk-toggleable__label-arrow\"><div><div>holiday</div></div></label><div class=\"sk-toggleable__content fitted\"><pre>[&#x27;holiday&#x27;]</pre></div> </div></div><div class=\"sk-serial\"><div class=\"sk-item\"><div class=\"sk-estimator fitted sk-toggleable\"><input class=\"sk-toggleable__control sk-hidden--visually\" id=\"sk-estimator-id-12\" type=\"checkbox\" ><label for=\"sk-estimator-id-12\" class=\"sk-toggleable__label fitted sk-toggleable__label-arrow\"><div><div>HolidayBinaryTransformer</div></div></label><div class=\"sk-toggleable__content fitted\"><pre>HolidayBinaryTransformer()</pre></div> </div></div></div></div></div></div></div><div class=\"sk-item\"><div class=\"sk-estimator fitted sk-toggleable\"><input class=\"sk-toggleable__control sk-hidden--visually\" id=\"sk-estimator-id-13\" type=\"checkbox\" ><label for=\"sk-estimator-id-13\" class=\"sk-toggleable__label fitted sk-toggleable__label-arrow\"><div><div>GradientBoostingRegressor</div></div><div><a class=\"sk-estimator-doc-link fitted\" rel=\"noreferrer\" target=\"_blank\" href=\"https://scikit-learn.org/1.6/modules/generated/sklearn.ensemble.GradientBoostingRegressor.html\">?<span>Documentation for GradientBoostingRegressor</span></a></div></label><div class=\"sk-toggleable__content fitted\"><pre>GradientBoostingRegressor(random_state=42)</pre></div> </div></div></div></div></div></div>"
      ],
      "text/plain": [
       "Pipeline(steps=[('datetime',\n",
       "                 Pipeline(steps=[('datetime_extractor', DateTimeExtractor())])),\n",
       "                ('preprocessor',\n",
       "                 ColumnTransformer(transformers=[('num',\n",
       "                                                  Pipeline(steps=[('imputer',\n",
       "                                                                   SimpleImputer(strategy='median')),\n",
       "                                                                  ('scaler',\n",
       "                                                                   StandardScaler())]),\n",
       "                                                  ['temp', 'rain_1h', 'snow_1h',\n",
       "                                                   'clouds_all', 'year',\n",
       "                                                   'month', 'day', 'hour']),\n",
       "                                                 ('cat',\n",
       "                                                  Pipeline(steps=[('imputer',\n",
       "                                                                   SimpleImputer(fill_value='missing',\n",
       "                                                                                 strategy='constant')),\n",
       "                                                                  ('onehot',\n",
       "                                                                   OneHotEncoder(handle_unknown='ignore'))]),\n",
       "                                                  ['weather_main',\n",
       "                                                   'weather_description']),\n",
       "                                                 ('holiday',\n",
       "                                                  HolidayBinaryTransformer(),\n",
       "                                                  ['holiday'])])),\n",
       "                ('regressor', GradientBoostingRegressor(random_state=42))])"
      ]
     },
     "execution_count": 52,
     "metadata": {},
     "output_type": "execute_result"
    }
   ],
   "source": [
    "pipeline"
   ]
  },
  {
   "cell_type": "code",
   "execution_count": null,
   "id": "7ffcc141-df8e-49d6-a38c-2fc086cb1139",
   "metadata": {},
   "outputs": [],
   "source": []
  }
 ],
 "metadata": {
  "kernelspec": {
   "display_name": "mlops1 (Python 3.9)",
   "language": "python",
   "name": "mlops_env"
  },
  "language_info": {
   "codemirror_mode": {
    "name": "ipython",
    "version": 3
   },
   "file_extension": ".py",
   "mimetype": "text/x-python",
   "name": "python",
   "nbconvert_exporter": "python",
   "pygments_lexer": "ipython3",
   "version": "3.9.21"
  }
 },
 "nbformat": 4,
 "nbformat_minor": 5
}
