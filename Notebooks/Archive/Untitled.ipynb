{
 "cells": [
  {
   "cell_type": "code",
   "execution_count": 4,
   "id": "915ad0aa-da8d-4b16-8ed4-e17ab4ccb2f8",
   "metadata": {},
   "outputs": [
    {
     "name": "stdout",
     "output_type": "stream",
     "text": [
      "Status Code: 200\n",
      "Response Headers: {'date': 'Sun, 16 Mar 2025 19:37:43 GMT', 'server': 'uvicorn', 'content-length': '35', 'content-type': 'application/json'}\n",
      "Response Text: {\"predictions\":[573.8045043945312]}\n"
     ]
    }
   ],
   "source": [
    "import requests\n",
    "\n",
    "url = \"http://127.0.0.1:8000/predict\"  # Ensure the FastAPI server is running on localhost\n",
    "\n",
    "# Payload as per the new input schema (raw dataset format)\n",
    "payload = {\n",
    "    \"holiday\": \"None\",                      # e.g., \"None\" or a holiday name\n",
    "    \"temp\": 290.0,                          # Temperature in Kelvin (as per raw dataset)\n",
    "    \"rain_1h\": 0.0,                         # Rain in the last hour (float)\n",
    "    \"snow_1h\": 0.0,                         # Snow in the last hour (float)\n",
    "    \"clouds_all\": 75,                       # Cloud coverage percentage (integer)\n",
    "    \"weather_main\": \"Clear\",                # e.g., \"Clear\", \"Rain\", \"Clouds\", etc.\n",
    "    \"weather_description\": \"clear sky\",     # Detailed description, e.g., \"clear sky\"\n",
    "    \"date_time\": \"2012-10-02 1:00:00\"        # Date and time as a string in \"YYYY-MM-DD HH:MM:SS\" format\n",
    "}\n",
    "\n",
    "response = requests.post(url, json=payload)\n",
    "print(\"Status Code:\", response.status_code)\n",
    "print(\"Response Headers:\", response.headers)\n",
    "print(\"Response Text:\", response.text)\n"
   ]
  },
  {
   "cell_type": "code",
   "execution_count": null,
   "id": "068118ba-4175-483e-8724-ce1c37fb647f",
   "metadata": {},
   "outputs": [],
   "source": []
  }
 ],
 "metadata": {
  "kernelspec": {
   "display_name": "Python (mlops)",
   "language": "python",
   "name": "mlops"
  },
  "language_info": {
   "codemirror_mode": {
    "name": "ipython",
    "version": 3
   },
   "file_extension": ".py",
   "mimetype": "text/x-python",
   "name": "python",
   "nbconvert_exporter": "python",
   "pygments_lexer": "ipython3",
   "version": "3.9.21"
  }
 },
 "nbformat": 4,
 "nbformat_minor": 5
}
